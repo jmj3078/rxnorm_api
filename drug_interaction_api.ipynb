{
 "cells": [
  {
   "cell_type": "code",
   "execution_count": 1,
   "metadata": {},
   "outputs": [],
   "source": [
    "import requests\n",
    "import json"
   ]
  },
  {
   "cell_type": "code",
   "execution_count": 35,
   "metadata": {},
   "outputs": [],
   "source": [
    "def get_interactions_fromlist(source : str, rxnorm_code_list : list):\n",
    "    if not isinstance(rxnorm_code_list, list) :\n",
    "        print(\"Instance is not a list.\")\n",
    "        return 0\n",
    "\n",
    "    else : \n",
    "        rxnorm_code = \"%20\".join(rxnorm_code_list)\n",
    "        API_HOST = \"https://rxnav.nlm.nih.gov\"\n",
    "        path = f\"/REST/interaction/list.json?rxcuis={rxnorm_code}&sources={source}\"\n",
    "        \n",
    "        url = API_HOST + path\n",
    "        headers = {'Content-Type': 'application/json', 'charset': 'UTF-8', 'Accept': '*/*'}\n",
    "        \n",
    "        try:\n",
    "            response = requests.get(url, headers=headers)\n",
    "            print(\"response status %r\" % response.status_code)\n",
    "            print(\"response text %r\" % response.text)\n",
    "            data = response.json()\n",
    "            return data\n",
    "\n",
    "        except Exception as ex:\n",
    "            print(ex)"
   ]
  },
  {
   "cell_type": "code",
   "execution_count": 36,
   "metadata": {},
   "outputs": [],
   "source": [
    "def get_rxnorm_code(drug_name):\n",
    "    base_url = \"https://rxnav.nlm.nih.gov/REST/rxcui.json\"\n",
    "    params = {\n",
    "        \"name\": drug_name\n",
    "    }\n",
    "\n",
    "    response = requests.get(base_url, params=params)\n",
    "\n",
    "    if response.status_code == 200:\n",
    "        data = response.json()\n",
    "        if \"idGroup\" in data:\n",
    "            if \"rxnormId\" in data[\"idGroup\"]:\n",
    "                rxnorm_code = data[\"idGroup\"][\"rxnormId\"][0]\n",
    "                return rxnorm_code\n",
    "    else:\n",
    "        print(\"Error: Failed to retrieve RxNORM code.\")\n",
    "\n",
    "    return None"
   ]
  },
  {
   "cell_type": "code",
   "execution_count": 40,
   "metadata": {},
   "outputs": [
    {
     "name": "stdout",
     "output_type": "stream",
     "text": [
      "response status 200\n",
      "response text '{\"nlmDisclaimer\":\"It is not the intention of NLM to provide specific medical advice, but rather to provide users with information to better understand their health and their medications. NLM urges you to consult with a qualified physician for advice about medications.\",\"fullInteractionTypeGroup\":[{\"sourceDisclaimer\":\"DrugBank is intended for educational and scientific research purposes only and you expressly acknowledge and agree that use of DrugBank is at your sole risk. The accuracy of DrugBank information is not guaranteed and reliance on DrugBank shall be at your sole risk. DrugBank is not intended as a substitute for professional medical advice, diagnosis or treatment..[www.drugbank.ca]\",\"sourceName\":\"DrugBank\",\"fullInteractionType\":[{\"comment\":\"Drug1 (rxcui = 135446, name = Aricept, tty = BN). Drug2 (rxcui = 202433, name = Tylenol, tty = BN). Drug1 is resolved to donepezil, Drug2 is resolved to acetaminophen and interaction asserted in DrugBank between Donepezil and Acetaminophen.\",\"minConcept\":[{\"rxcui\":\"135446\",\"name\":\"Aricept\",\"tty\":\"BN\"},{\"rxcui\":\"202433\",\"name\":\"Tylenol\",\"tty\":\"BN\"}],\"interactionPair\":[{\"interactionConcept\":[{\"minConceptItem\":{\"rxcui\":\"135447\",\"name\":\"donepezil\",\"tty\":\"IN\"},\"sourceConceptItem\":{\"id\":\"DB00843\",\"name\":\"Donepezil\",\"url\":\"https://go.drugbank.com/drugs/DB00843#interactions\"}},{\"minConceptItem\":{\"rxcui\":\"161\",\"name\":\"acetaminophen\",\"tty\":\"IN\"},\"sourceConceptItem\":{\"id\":\"DB00316\",\"name\":\"Acetaminophen\",\"url\":\"https://go.drugbank.com/drugs/DB00316#interactions\"}}],\"severity\":\"N/A\",\"description\":\"The metabolism of Donepezil can be decreased when combined with Acetaminophen.\"}]}]}]}'\n"
     ]
    },
    {
     "data": {
      "text/plain": [
       "{'nlmDisclaimer': 'It is not the intention of NLM to provide specific medical advice, but rather to provide users with information to better understand their health and their medications. NLM urges you to consult with a qualified physician for advice about medications.',\n",
       " 'fullInteractionTypeGroup': [{'sourceDisclaimer': 'DrugBank is intended for educational and scientific research purposes only and you expressly acknowledge and agree that use of DrugBank is at your sole risk. The accuracy of DrugBank information is not guaranteed and reliance on DrugBank shall be at your sole risk. DrugBank is not intended as a substitute for professional medical advice, diagnosis or treatment..[www.drugbank.ca]',\n",
       "   'sourceName': 'DrugBank',\n",
       "   'fullInteractionType': [{'comment': 'Drug1 (rxcui = 135446, name = Aricept, tty = BN). Drug2 (rxcui = 202433, name = Tylenol, tty = BN). Drug1 is resolved to donepezil, Drug2 is resolved to acetaminophen and interaction asserted in DrugBank between Donepezil and Acetaminophen.',\n",
       "     'minConcept': [{'rxcui': '135446', 'name': 'Aricept', 'tty': 'BN'},\n",
       "      {'rxcui': '202433', 'name': 'Tylenol', 'tty': 'BN'}],\n",
       "     'interactionPair': [{'interactionConcept': [{'minConceptItem': {'rxcui': '135447',\n",
       "          'name': 'donepezil',\n",
       "          'tty': 'IN'},\n",
       "         'sourceConceptItem': {'id': 'DB00843',\n",
       "          'name': 'Donepezil',\n",
       "          'url': 'https://go.drugbank.com/drugs/DB00843#interactions'}},\n",
       "        {'minConceptItem': {'rxcui': '161',\n",
       "          'name': 'acetaminophen',\n",
       "          'tty': 'IN'},\n",
       "         'sourceConceptItem': {'id': 'DB00316',\n",
       "          'name': 'Acetaminophen',\n",
       "          'url': 'https://go.drugbank.com/drugs/DB00316#interactions'}}],\n",
       "       'severity': 'N/A',\n",
       "       'description': 'The metabolism of Donepezil can be decreased when combined with Acetaminophen.'}]}]}]}"
      ]
     },
     "execution_count": 40,
     "metadata": {},
     "output_type": "execute_result"
    }
   ],
   "source": [
    "sources = [\"DrugBank\", \"ONCHigh\"]\n",
    "rxnorm_code_list = [\"202433\",\"135446\"]\n",
    "\n",
    "response = get_interactions_fromlist(sources[0], rxnorm_code_list)"
   ]
  },
  {
   "cell_type": "code",
   "execution_count": 55,
   "metadata": {},
   "outputs": [
    {
     "name": "stdout",
     "output_type": "stream",
     "text": [
      "N/A The metabolism of Donepezil can be decreased when combined with Acetaminophen.\n"
     ]
    }
   ],
   "source": [
    "severity = response['fullInteractionTypeGroup'][0]['fullInteractionType'][0]['interactionPair'][0]['severity']\n",
    "description = response['fullInteractionTypeGroup'][0]['fullInteractionType'][0]['interactionPair'][0]['description']\n",
    "print(severity, description)"
   ]
  },
  {
   "cell_type": "code",
   "execution_count": 16,
   "metadata": {},
   "outputs": [
    {
     "name": "stdout",
     "output_type": "stream",
     "text": [
      "RxNORM code for aricept: 135446\n"
     ]
    }
   ],
   "source": [
    "drug_name = \"aricept\"\n",
    "rxnorm_code = get_rxnorm_code(drug_name)\n",
    "if rxnorm_code:\n",
    "    print(f\"RxNORM code for {drug_name}: {rxnorm_code}\")\n",
    "else:\n",
    "    print(\"RxNORM code not found.\")"
   ]
  },
  {
   "cell_type": "markdown",
   "metadata": {},
   "source": [
    "202433 135446"
   ]
  },
  {
   "cell_type": "code",
   "execution_count": 14,
   "metadata": {},
   "outputs": [
    {
     "name": "stdout",
     "output_type": "stream",
     "text": [
      "response status 200\n",
      "response text '<?xml version=\"1.0\" ?><interactiondata><nlmDisclaimer>It is not the intention of NLM to provide specific medical advice, but rather to provide users with information to better understand their health and their medications. NLM urges you to consult with a qualified physician for advice about medications.</nlmDisclaimer><interactionTypeGroup><sourceDisclaimer>https://www.ncbi.nlm.nih.gov/pmc/articles/PMC3422823/</sourceDisclaimer><sourceName>ONCHigh</sourceName><interactionType><comment>Aricept (135446) is resolved to donepezil (135447)</comment><minConceptItem><rxcui>135446</rxcui><name>Aricept</name><tty>BN</tty></minConceptItem><interactionPair><interactionConcept><minConceptItem><rxcui>135447</rxcui><name>donepezil</name><tty>IN</tty></minConceptItem><sourceConceptItem><id>NA</id><name>donepezil</name><url>NA</url></sourceConceptItem></interactionConcept><interactionConcept><minConceptItem><rxcui>10239</rxcui><name>sulpiride</name><tty>IN</tty></minConceptItem><sourceConceptItem><id>NA</id><name>sulpiride</name><url>NA</url></sourceConceptItem></interactionConcept><severity>high</severity><description>QT prolonging agents - QT prolonging agents</description></interactionPair><interactionPair><interactionConcept><minConceptItem><rxcui>135447</rxcui><name>donepezil</name><tty>IN</tty></minConceptItem><sourceConceptItem><id>NA</id><name>donepezil</name><url>NA</url></sourceConceptItem></interactionConcept><interactionConcept><minConceptItem><rxcui>10502</rxcui><name>thioridazine</name><tty>IN</tty></minConceptItem><sourceConceptItem><id>NA</id><name>thioridazine</name><url>NA</url></sourceConceptItem></interactionConcept><severity>high</severity><description>QT prolonging agents - QT prolonging agents</description></interactionPair><interactionPair><interactionConcept><minConceptItem><rxcui>135447</rxcui><name>donepezil</name><tty>IN</tty></minConceptItem><sourceConceptItem><id>NA</id><name>donepezil</name><url>NA</url></sourceConceptItem></interactionConcept><interactionConcept><minConceptItem><rxcui>1098413</rxcui><name>vandetanib</name><tty>IN</tty></minConceptItem><sourceConceptItem><id>NA</id><name>vandetanib</name><url>NA</url></sourceConceptItem></interactionConcept><severity>high</severity><description>QT prolonging agents - QT prolonging agents</description></interactionPair><interactionPair><interactionConcept><minConceptItem><rxcui>139462</rxcui><name>moxifloxacin</name><tty>IN</tty></minConceptItem><sourceConceptItem><id>NA</id><name>moxifloxacin</name><url>NA</url></sourceConceptItem></interactionConcept><interactionConcept><minConceptItem><rxcui>135447</rxcui><name>donepezil</name><tty>IN</tty></minConceptItem><sourceConceptItem><id>NA</id><name>donepezil</name><url>NA</url></sourceConceptItem></interactionConcept><severity>high</severity><description>QT prolonging agents - QT prolonging agents</description></interactionPair><interactionPair><interactionConcept><minConceptItem><rxcui>1436</rxcui><name>bepridil</name><tty>IN</tty></minConceptItem><sourceConceptItem><id>NA</id><name>bepridil</name><url>NA</url></sourceConceptItem></interactionConcept><interactionConcept><minConceptItem><rxcui>135447</rxcui><name>donepezil</name><tty>IN</tty></minConceptItem><sourceConceptItem><id>NA</id><name>donepezil</name><url>NA</url></sourceConceptItem></interactionConcept><severity>high</severity><description>QT prolonging agents - QT prolonging agents</description></interactionPair><interactionPair><interactionConcept><minConceptItem><rxcui>18330</rxcui><name>arsenic trioxide</name><tty>IN</tty></minConceptItem><sourceConceptItem><id>NA</id><name>arsenic trioxide</name><url>NA</url></sourceConceptItem></interactionConcept><interactionConcept><minConceptItem><rxcui>135447</rxcui><name>donepezil</name><tty>IN</tty></minConceptItem><sourceConceptItem><id>NA</id><name>donepezil</name><url>NA</url></sourceConceptItem></interactionConcept><severity>high</severity><description>QT prolonging agents - QT prolonging agents</description></interactionPair><interactionPair><interactionConcept><minConceptItem><rxcui>18469</rxcui><name>sparfloxacin</name><tty>IN</tty></minConceptItem><sourceConceptItem><id>NA</id><name>sparfloxacin</name><url>NA</url></sourceConceptItem></interactionConcept><interactionConcept><minConceptItem><rxcui>135447</rxcui><name>donepezil</name><tty>IN</tty></minConceptItem><sourceConceptItem><id>NA</id><name>donepezil</name><url>NA</url></sourceConceptItem></interactionConcept><severity>high</severity><description>QT prolonging agents - QT prolonging agents</description></interactionPair><interactionPair><interactionConcept><minConceptItem><rxcui>18631</rxcui><name>azithromycin</name><tty>IN</tty></minConceptItem><sourceConceptItem><id>NA</id><name>azithromycin</name><url>NA</url></sourceConceptItem></interactionConcept><interactionConcept><minConceptItem><rxcui>135447</rxcui><name>donepezil</name><tty>IN</tty></minConceptItem><sourceConceptItem><id>NA</id><name>donepezil</name><url>NA</url></sourceConceptItem></interactionConcept><severity>high</severity><description>QT prolonging agents - QT prolonging agents</description></interactionPair><interactionPair><interactionConcept><minConceptItem><rxcui>20599</rxcui><name>cesium chloride</name><tty>IN</tty></minConceptItem><sourceConceptItem><id>NA</id><name>cesium chloride</name><url>NA</url></sourceConceptItem></interactionConcept><interactionConcept><minConceptItem><rxcui>135447</rxcui><name>donepezil</name><tty>IN</tty></minConceptItem><sourceConceptItem><id>NA</id><name>donepezil</name><url>NA</url></sourceConceptItem></interactionConcept><severity>high</severity><description>QT prolonging agents - QT prolonging agents</description></interactionPair><interactionPair><interactionConcept><minConceptItem><rxcui>21107</rxcui><name>cilostazol</name><tty>IN</tty></minConceptItem><sourceConceptItem><id>NA</id><name>cilostazol</name><url>NA</url></sourceConceptItem></interactionConcept><interactionConcept><minConceptItem><rxcui>135447</rxcui><name>donepezil</name><tty>IN</tty></minConceptItem><sourceConceptItem><id>NA</id><name>donepezil</name><url>NA</url></sourceConceptItem></interactionConcept><severity>high</severity><description>QT prolonging agents - QT prolonging agents</description></interactionPair><interactionPair><interactionConcept><minConceptItem><rxcui>21212</rxcui><name>clarithromycin</name><tty>IN</tty></minConceptItem><sourceConceptItem><id>NA</id><name>clarithromycin</name><url>NA</url></sourceConceptItem></interactionConcept><interactionConcept><minConceptItem><rxcui>135447</rxcui><name>donepezil</name><tty>IN</tty></minConceptItem><sourceConceptItem><id>NA</id><name>donepezil</name><url>NA</url></sourceConceptItem></interactionConcept><severity>high</severity><description>QT prolonging agents - QT prolonging agents</description></interactionPair><interactionPair><interactionConcept><minConceptItem><rxcui>228476</rxcui><name>gatifloxacin</name><tty>IN</tty></minConceptItem><sourceConceptItem><id>NA</id><name>gatifloxacin</name><url>NA</url></sourceConceptItem></interactionConcept><interactionConcept><minConceptItem><rxcui>135447</rxcui><name>donepezil</name><tty>IN</tty></minConceptItem><sourceConceptItem><id>NA</id><name>donepezil</name><url>NA</url></sourceConceptItem></interactionConcept><severity>high</severity><description>QT prolonging agents - QT prolonging agents</description></interactionPair><interactionPair><interactionConcept><minConceptItem><rxcui>233698</rxcui><name>dronedarone</name><tty>IN</tty></minConceptItem><sourceConceptItem><id>NA</id><name>dronedarone</name><url>NA</url></sourceConceptItem></interactionConcept><interactionConcept><minConceptItem><rxcui>135447</rxcui><name>donepezil</name><tty>IN</tty></minConceptItem><sourceConceptItem><id>NA</id><name>donepezil</name><url>NA</url></sourceConceptItem></interactionConcept><severity>high</severity><description>QT prolonging agents - QT prolonging agents</description></interactionPair><interactionPair><interactionConcept><minConceptItem><rxcui>239</rxcui><name>aclarubicin</name><tty>IN</tty></minConceptItem><sourceConceptItem><id>NA</id><name>aclarubicin</name><url>NA</url></sourceConceptItem></interactionConcept><interactionConcept><minConceptItem><rxcui>135447</rxcui><name>donepezil</name><tty>IN</tty></minConceptItem><sourceConceptItem><id>NA</id><name>donepezil</name><url>NA</url></sourceConceptItem></interactionConcept><severity>high</severity><description>QT prolonging agents - QT prolonging agents</description></interactionPair><interactionPair><interactionConcept><minConceptItem><rxcui>2393</rxcui><name>chloroquine</name><tty>IN</tty></minConceptItem><sourceConceptItem><id>NA</id><name>chloroquine</name><url>NA</url></sourceConceptItem></interactionConcept><interactionConcept><minConceptItem><rxcui>135447</rxcui><name>donepezil</name><tty>IN</tty></minConceptItem><sourceConceptItem><id>NA</id><name>donepezil</name><url>NA</url></sourceConceptItem></interactionConcept><severity>high</severity><description>QT prolonging agents - QT prolonging agents</description></interactionPair><interactionPair><interactionConcept><minConceptItem><rxcui>2403</rxcui><name>chlorpromazine</name><tty>IN</tty></minConceptItem><sourceConceptItem><id>NA</id><name>chlorpromazine</name><url>NA</url></sourceConceptItem></interactionConcept><interactionConcept><minConceptItem><rxcui>135447</rxcui><name>donepezil</name><tty>IN</tty></minConceptItem><sourceConceptItem><id>NA</id><name>donepezil</name><url>NA</url></sourceConceptItem></interactionConcept><severity>high</severity><description>QT prolonging agents - QT prolonging agents</description></interactionPair><interactionPair><interactionConcept><minConceptItem><rxcui>2406</rxcui><name>chlorprothixene</name><tty>IN</tty></minConceptItem><sourceConceptItem><id>NA</id><name>chlorprothixene</name><url>NA</url></sourceConceptItem></interactionConcept><interactionConcept><minConceptItem><rxcui>135447</rxcui><name>donepezil</name><tty>IN</tty></minConceptItem><sourceConceptItem><id>NA</id><name>donepezil</name><url>NA</url></sourceConceptItem></interactionConcept><severity>high</severity><description>QT prolonging agents - QT prolonging agents</description></interactionPair><interactionPair><interactionConcept><minConceptItem><rxcui>2551</rxcui><name>ciprofloxacin</name><tty>IN</tty></minConceptItem><sourceConceptItem><id>NA</id><name>ciprofloxacin</name><url>NA</url></sourceConceptItem></interactionConcept><interactionConcept><minConceptItem><rxcui>135447</rxcui><name>donepezil</name><tty>IN</tty></minConceptItem><sourceConceptItem><id>NA</id><name>donepezil</name><url>NA</url></sourceConceptItem></interactionConcept><severity>high</severity><description>QT prolonging agents - QT prolonging agents</description></interactionPair><interactionPair><interactionConcept><minConceptItem><rxcui>2556</rxcui><name>citalopram</name><tty>IN</tty></minConceptItem><sourceConceptItem><id>NA</id><name>citalopram</name><url>NA</url></sourceConceptItem></interactionConcept><interactionConcept><minConceptItem><rxcui>135447</rxcui><name>donepezil</name><tty>IN</tty></minConceptItem><sourceConceptItem><id>NA</id><name>donepezil</name><url>NA</url></sourceConceptItem></interactionConcept><severity>high</severity><description>QT prolonging agents - QT prolonging agents</description></interactionPair><interactionPair><interactionConcept><minConceptItem><rxcui>2570736</rxcui><name>mobocertinib</name><tty>IN</tty></minConceptItem><sourceConceptItem><id>NA</id><name>mobocertinib</name><url>NA</url></sourceConceptItem></interactionConcept><interactionConcept><minConceptItem><rxcui>135447</rxcui><name>donepezil</name><tty>IN</tty></minConceptItem><sourceConceptItem><id>NA</id><name>donepezil</name><url>NA</url></sourceConceptItem></interactionConcept><severity>high</severity><description>QT prolonging agents - QT prolonging agents</description></interactionPair><interactionPair><interactionConcept><minConceptItem><rxcui>26225</rxcui><name>ondansetron</name><tty>IN</tty></minConceptItem><sourceConceptItem><id>NA</id><name>ondansetron</name><url>NA</url></sourceConceptItem></interactionConcept><interactionConcept><minConceptItem><rxcui>135447</rxcui><name>donepezil</name><tty>IN</tty></minConceptItem><sourceConceptItem><id>NA</id><name>donepezil</name><url>NA</url></sourceConceptItem></interactionConcept><severity>high</severity><description>QT prolonging agents - QT prolonging agents</description></interactionPair><interactionPair><interactionConcept><minConceptItem><rxcui>2653</rxcui><name>cocaine</name><tty>IN</tty></minConceptItem><sourceConceptItem><id>NA</id><name>cocaine</name><url>NA</url></sourceConceptItem></interactionConcept><interactionConcept><minConceptItem><rxcui>135447</rxcui><name>donepezil</name><tty>IN</tty></minConceptItem><sourceConceptItem><id>NA</id><name>donepezil</name><url>NA</url></sourceConceptItem></interactionConcept><severity>high</severity><description>QT prolonging agents - QT prolonging agents</description></interactionPair><interactionPair><interactionConcept><minConceptItem><rxcui>27220</rxcui><name>hydroquinidine</name><tty>IN</tty></minConceptItem><sourceConceptItem><id>NA</id><name>hydroquinidine</name><url>NA</url></sourceConceptItem></interactionConcept><interactionConcept><minConceptItem><rxcui>135447</rxcui><name>donepezil</name><tty>IN</tty></minConceptItem><sourceConceptItem><id>NA</id><name>donepezil</name><url>NA</url></sourceConceptItem></interactionConcept><severity>high</severity><description>QT prolonging agents - QT prolonging agents</description></interactionPair><interactionPair><interactionConcept><minConceptItem><rxcui>319866</rxcui><name>meglumine antimoniate</name><tty>IN</tty></minConceptItem><sourceConceptItem><id>NA</id><name>meglumine antimoniate</name><url>NA</url></sourceConceptItem></interactionConcept><interactionConcept><minConceptItem><rxcui>135447</rxcui><name>donepezil</name><tty>IN</tty></minConceptItem><sourceConceptItem><id>NA</id><name>donepezil</name><url>NA</url></sourceConceptItem></interactionConcept><severity>high</severity><description>QT prolonging agents - QT prolonging agents</description></interactionPair><interactionPair><interactionConcept><minConceptItem><rxcui>32592</rxcui><name>oxaliplatin</name><tty>IN</tty></minConceptItem><sourceConceptItem><id>NA</id><name>oxaliplatin</name><url>NA</url></sourceConceptItem></interactionConcept><interactionConcept><minConceptItem><rxcui>135447</rxcui><name>donepezil</name><tty>IN</tty></minConceptItem><sourceConceptItem><id>NA</id><name>donepezil</name><url>NA</url></sourceConceptItem></interactionConcept><severity>high</severity><description>QT prolonging agents - QT prolonging agents</description></interactionPair><interactionPair><interactionConcept><minConceptItem><rxcui>35255</rxcui><name>cisapride</name><tty>IN</tty></minConceptItem><sourceConceptItem><id>NA</id><name>cisapride</name><url>NA</url></sourceConceptItem></interactionConcept><interactionConcept><minConceptItem><rxcui>135447</rxcui><name>donepezil</name><tty>IN</tty></minConceptItem><sourceConceptItem><id>NA</id><name>donepezil</name><url>NA</url></sourceConceptItem></interactionConcept><severity>high</severity><description>QT prolonging agents - QT prolonging agents</description></interactionPair><interactionPair><interactionConcept><minConceptItem><rxcui>3541</rxcui><name>disopyramide</name><tty>IN</tty></minConceptItem><sourceConceptItem><id>NA</id><name>disopyramide</name><url>NA</url></sourceConceptItem></interactionConcept><interactionConcept><minConceptItem><rxcui>135447</rxcui><name>donepezil</name><tty>IN</tty></minConceptItem><sourceConceptItem><id>NA</id><name>donepezil</name><url>NA</url></sourceConceptItem></interactionConcept><severity>high</severity><description>QT prolonging agents - QT prolonging agents</description></interactionPair><interactionPair><interactionConcept><minConceptItem><rxcui>3626</rxcui><name>domperidone</name><tty>IN</tty></minConceptItem><sourceConceptItem><id>NA</id><name>domperidone</name><url>NA</url></sourceConceptItem></interactionConcept><interactionConcept><minConceptItem><rxcui>135447</rxcui><name>donepezil</name><tty>IN</tty></minConceptItem><sourceConceptItem><id>NA</id><name>donepezil</name><url>NA</url></sourceConceptItem></interactionConcept><severity>high</severity><description>QT prolonging agents - QT prolonging agents</description></interactionPair><interactionPair><interactionConcept><minConceptItem><rxcui>36453</rxcui><name>sevoflurane</name><tty>IN</tty></minConceptItem><sourceConceptItem><id>NA</id><name>sevoflurane</name><url>NA</url></sourceConceptItem></interactionConcept><interactionConcept><minConceptItem><rxcui>135447</rxcui><name>donepezil</name><tty>IN</tty></minConceptItem><sourceConceptItem><id>NA</id><name>donepezil</name><url>NA</url></sourceConceptItem></interactionConcept><severity>high</severity><description>QT prolonging agents - QT prolonging agents</description></interactionPair><interactionPair><interactionConcept><minConceptItem><rxcui>3648</rxcui><name>droperidol</name><tty>IN</tty></minConceptItem><sourceConceptItem><id>NA</id><name>droperidol</name><url>NA</url></sourceConceptItem></interactionConcept><interactionConcept><minConceptItem><rxcui>135447</rxcui><name>donepezil</name><tty>IN</tty></minConceptItem><sourceConceptItem><id>NA</id><name>donepezil</name><url>NA</url></sourceConceptItem></interactionConcept><severity>high</severity><description>QT prolonging agents - QT prolonging agents</description></interactionPair><interactionPair><interactionConcept><minConceptItem><rxcui>37416</rxcui><name>sultopride</name><tty>IN</tty></minConceptItem><sourceConceptItem><id>NA</id><name>sultopride</name><url>NA</url></sourceConceptItem></interactionConcept><interactionConcept><minConceptItem><rxcui>135447</rxcui><name>donepezil</name><tty>IN</tty></minConceptItem><sourceConceptItem><id>NA</id><name>donepezil</name><url>NA</url></sourceConceptItem></interactionConcept><severity>high</severity><description>QT prolonging agents - QT prolonging agents</description></interactionPair><interactionPair><interactionConcept><minConceptItem><rxcui>37815</rxcui><name>terodiline</name><tty>IN</tty></minConceptItem><sourceConceptItem><id>NA</id><name>terodiline</name><url>NA</url></sourceConceptItem></interactionConcept><interactionConcept><minConceptItem><rxcui>135447</rxcui><name>donepezil</name><tty>IN</tty></minConceptItem><sourceConceptItem><id>NA</id><name>donepezil</name><url>NA</url></sourceConceptItem></interactionConcept><severity>high</severity><description>QT prolonging agents - QT prolonging agents</description></interactionPair><interactionPair><interactionConcept><minConceptItem><rxcui>4053</rxcui><name>erythromycin</name><tty>IN</tty></minConceptItem><sourceConceptItem><id>NA</id><name>erythromycin</name><url>NA</url></sourceConceptItem></interactionConcept><interactionConcept><minConceptItem><rxcui>135447</rxcui><name>donepezil</name><tty>IN</tty></minConceptItem><sourceConceptItem><id>NA</id><name>donepezil</name><url>NA</url></sourceConceptItem></interactionConcept><severity>high</severity><description>QT prolonging agents - QT prolonging agents</description></interactionPair><interactionPair><interactionConcept><minConceptItem><rxcui>41289</rxcui><name>ibutilide</name><tty>IN</tty></minConceptItem><sourceConceptItem><id>NA</id><name>ibutilide</name><url>NA</url></sourceConceptItem></interactionConcept><interactionConcept><minConceptItem><rxcui>135447</rxcui><name>donepezil</name><tty>IN</tty></minConceptItem><sourceConceptItem><id>NA</id><name>donepezil</name><url>NA</url></sourceConceptItem></interactionConcept><severity>high</severity><description>QT prolonging agents - QT prolonging agents</description></interactionPair><interactionPair><interactionConcept><minConceptItem><rxcui>41996</rxcui><name>sertindole</name><tty>IN</tty></minConceptItem><sourceConceptItem><id>NA</id><name>sertindole</name><url>NA</url></sourceConceptItem></interactionConcept><interactionConcept><minConceptItem><rxcui>135447</rxcui><name>donepezil</name><tty>IN</tty></minConceptItem><sourceConceptItem><id>NA</id><name>donepezil</name><url>NA</url></sourceConceptItem></interactionConcept><severity>high</severity><description>QT prolonging agents - QT prolonging agents</description></interactionPair><interactionPair><interactionConcept><minConceptItem><rxcui>42328</rxcui><name>astemizole</name><tty>IN</tty></minConceptItem><sourceConceptItem><id>NA</id><name>astemizole</name><url>NA</url></sourceConceptItem></interactionConcept><interactionConcept><minConceptItem><rxcui>135447</rxcui><name>donepezil</name><tty>IN</tty></minConceptItem><sourceConceptItem><id>NA</id><name>donepezil</name><url>NA</url></sourceConceptItem></interactionConcept><severity>high</severity><description>QT prolonging agents - QT prolonging agents</description></interactionPair><interactionPair><interactionConcept><minConceptItem><rxcui>42330</rxcui><name>terfenadine</name><tty>IN</tty></minConceptItem><sourceConceptItem><id>NA</id><name>terfenadine</name><url>NA</url></sourceConceptItem></interactionConcept><interactionConcept><minConceptItem><rxcui>135447</rxcui><name>donepezil</name><tty>IN</tty></minConceptItem><sourceConceptItem><id>NA</id><name>donepezil</name><url>NA</url></sourceConceptItem></interactionConcept><severity>high</severity><description>QT prolonging agents - QT prolonging agents</description></interactionPair><interactionPair><interactionConcept><minConceptItem><rxcui>4441</rxcui><name>flecainide</name><tty>IN</tty></minConceptItem><sourceConceptItem><id>NA</id><name>flecainide</name><url>NA</url></sourceConceptItem></interactionConcept><interactionConcept><minConceptItem><rxcui>135447</rxcui><name>donepezil</name><tty>IN</tty></minConceptItem><sourceConceptItem><id>NA</id><name>donepezil</name><url>NA</url></sourceConceptItem></interactionConcept><severity>high</severity><description>QT prolonging agents - QT prolonging agents</description></interactionPair><interactionPair><interactionConcept><minConceptItem><rxcui>4450</rxcui><name>fluconazole</name><tty>IN</tty></minConceptItem><sourceConceptItem><id>NA</id><name>fluconazole</name><url>NA</url></sourceConceptItem></interactionConcept><interactionConcept><minConceptItem><rxcui>135447</rxcui><name>donepezil</name><tty>IN</tty></minConceptItem><sourceConceptItem><id>NA</id><name>donepezil</name><url>NA</url></sourceConceptItem></interactionConcept><severity>high</severity><description>QT prolonging agents - QT prolonging agents</description></interactionPair><interactionPair><interactionConcept><minConceptItem><rxcui>49247</rxcui><name>dofetilide</name><tty>IN</tty></minConceptItem><sourceConceptItem><id>NA</id><name>dofetilide</name><url>NA</url></sourceConceptItem></interactionConcept><interactionConcept><minConceptItem><rxcui>135447</rxcui><name>donepezil</name><tty>IN</tty></minConceptItem><sourceConceptItem><id>NA</id><name>donepezil</name><url>NA</url></sourceConceptItem></interactionConcept><severity>high</severity><description>QT prolonging agents - QT prolonging agents</description></interactionPair><interactionPair><interactionConcept><minConceptItem><rxcui>50749</rxcui><name>halofantrine</name><tty>IN</tty></minConceptItem><sourceConceptItem><id>NA</id><name>halofantrine</name><url>NA</url></sourceConceptItem></interactionConcept><interactionConcept><minConceptItem><rxcui>135447</rxcui><name>donepezil</name><tty>IN</tty></minConceptItem><sourceConceptItem><id>NA</id><name>donepezil</name><url>NA</url></sourceConceptItem></interactionConcept><severity>high</severity><description>QT prolonging agents - QT prolonging agents</description></interactionPair><interactionPair><interactionConcept><minConceptItem><rxcui>5093</rxcui><name>haloperidol</name><tty>IN</tty></minConceptItem><sourceConceptItem><id>NA</id><name>haloperidol</name><url>NA</url></sourceConceptItem></interactionConcept><interactionConcept><minConceptItem><rxcui>135447</rxcui><name>donepezil</name><tty>IN</tty></minConceptItem><sourceConceptItem><id>NA</id><name>donepezil</name><url>NA</url></sourceConceptItem></interactionConcept><severity>high</severity><description>QT prolonging agents - QT prolonging agents</description></interactionPair><interactionPair><interactionConcept><minConceptItem><rxcui>5521</rxcui><name>hydroxychloroquine</name><tty>IN</tty></minConceptItem><sourceConceptItem><id>NA</id><name>hydroxychloroquine</name><url>NA</url></sourceConceptItem></interactionConcept><interactionConcept><minConceptItem><rxcui>135447</rxcui><name>donepezil</name><tty>IN</tty></minConceptItem><sourceConceptItem><id>NA</id><name>donepezil</name><url>NA</url></sourceConceptItem></interactionConcept><severity>high</severity><description>QT prolonging agents - QT prolonging agents</description></interactionPair><interactionPair><interactionConcept><minConceptItem><rxcui>57048</rxcui><name>terlipressin</name><tty>IN</tty></minConceptItem><sourceConceptItem><id>NA</id><name>terlipressin</name><url>NA</url></sourceConceptItem></interactionConcept><interactionConcept><minConceptItem><rxcui>135447</rxcui><name>donepezil</name><tty>IN</tty></minConceptItem><sourceConceptItem><id>NA</id><name>donepezil</name><url>NA</url></sourceConceptItem></interactionConcept><severity>high</severity><description>QT prolonging agents - QT prolonging agents</description></interactionPair><interactionPair><interactionConcept><minConceptItem><rxcui>596724</rxcui><name>anagrelide</name><tty>IN</tty></minConceptItem><sourceConceptItem><id>NA</id><name>anagrelide</name><url>NA</url></sourceConceptItem></interactionConcept><interactionConcept><minConceptItem><rxcui>135447</rxcui><name>donepezil</name><tty>IN</tty></minConceptItem><sourceConceptItem><id>NA</id><name>donepezil</name><url>NA</url></sourceConceptItem></interactionConcept><severity>high</severity><description>QT prolonging agents - QT prolonging agents</description></interactionPair><interactionPair><interactionConcept><minConceptItem><rxcui>6779</rxcui><name>mesoridazine</name><tty>IN</tty></minConceptItem><sourceConceptItem><id>NA</id><name>mesoridazine</name><url>NA</url></sourceConceptItem></interactionConcept><interactionConcept><minConceptItem><rxcui>135447</rxcui><name>donepezil</name><tty>IN</tty></minConceptItem><sourceConceptItem><id>NA</id><name>donepezil</name><url>NA</url></sourceConceptItem></interactionConcept><severity>high</severity><description>QT prolonging agents - QT prolonging agents</description></interactionPair><interactionPair><interactionConcept><minConceptItem><rxcui>6813</rxcui><name>methadone</name><tty>IN</tty></minConceptItem><sourceConceptItem><id>NA</id><name>methadone</name><url>NA</url></sourceConceptItem></interactionConcept><interactionConcept><minConceptItem><rxcui>135447</rxcui><name>donepezil</name><tty>IN</tty></minConceptItem><sourceConceptItem><id>NA</id><name>donepezil</name><url>NA</url></sourceConceptItem></interactionConcept><severity>high</severity><description>QT prolonging agents - QT prolonging agents</description></interactionPair><interactionPair><interactionConcept><minConceptItem><rxcui>6852</rxcui><name>methotrimeprazine</name><tty>IN</tty></minConceptItem><sourceConceptItem><id>NA</id><name>methotrimeprazine</name><url>NA</url></sourceConceptItem></interactionConcept><interactionConcept><minConceptItem><rxcui>135447</rxcui><name>donepezil</name><tty>IN</tty></minConceptItem><sourceConceptItem><id>NA</id><name>donepezil</name><url>NA</url></sourceConceptItem></interactionConcept><severity>high</severity><description>QT prolonging agents - QT prolonging agents</description></interactionPair><interactionPair><interactionConcept><minConceptItem><rxcui>703</rxcui><name>amiodarone</name><tty>IN</tty></minConceptItem><sourceConceptItem><id>NA</id><name>amiodarone</name><url>NA</url></sourceConceptItem></interactionConcept><interactionConcept><minConceptItem><rxcui>135447</rxcui><name>donepezil</name><tty>IN</tty></minConceptItem><sourceConceptItem><id>NA</id><name>donepezil</name><url>NA</url></sourceConceptItem></interactionConcept><severity>high</severity><description>QT prolonging agents - QT prolonging agents</description></interactionPair><interactionPair><interactionConcept><minConceptItem><rxcui>203132</rxcui><name>papaverine hydrochloride</name><tty>PIN</tty></minConceptItem><sourceConceptItem><id>NA</id><name>papaverine hydrochloride</name><url>NA</url></sourceConceptItem></interactionConcept><interactionConcept><minConceptItem><rxcui>135447</rxcui><name>donepezil</name><tty>IN</tty></minConceptItem><sourceConceptItem><id>NA</id><name>donepezil</name><url>NA</url></sourceConceptItem></interactionConcept><severity>high</severity><description>QT prolonging agents - QT prolonging agents</description></interactionPair><interactionPair><interactionConcept><minConceptItem><rxcui>7994</rxcui><name>pentamidine</name><tty>IN</tty></minConceptItem><sourceConceptItem><id>NA</id><name>pentamidine</name><url>NA</url></sourceConceptItem></interactionConcept><interactionConcept><minConceptItem><rxcui>135447</rxcui><name>donepezil</name><tty>IN</tty></minConceptItem><sourceConceptItem><id>NA</id><name>donepezil</name><url>NA</url></sourceConceptItem></interactionConcept><severity>high</severity><description>QT prolonging agents - QT prolonging agents</description></interactionPair><interactionPair><interactionConcept><minConceptItem><rxcui>82122</rxcui><name>levofloxacin</name><tty>IN</tty></minConceptItem><sourceConceptItem><id>NA</id><name>levofloxacin</name><url>NA</url></sourceConceptItem></interactionConcept><interactionConcept><minConceptItem><rxcui>135447</rxcui><name>donepezil</name><tty>IN</tty></minConceptItem><sourceConceptItem><id>NA</id><name>donepezil</name><url>NA</url></sourceConceptItem></interactionConcept><severity>high</severity><description>QT prolonging agents - QT prolonging agents</description></interactionPair><interactionPair><interactionConcept><minConceptItem><rxcui>8331</rxcui><name>pimozide</name><tty>IN</tty></minConceptItem><sourceConceptItem><id>NA</id><name>pimozide</name><url>NA</url></sourceConceptItem></interactionConcept><interactionConcept><minConceptItem><rxcui>135447</rxcui><name>donepezil</name><tty>IN</tty></minConceptItem><sourceConceptItem><id>NA</id><name>donepezil</name><url>NA</url></sourceConceptItem></interactionConcept><severity>high</severity><description>QT prolonging agents - QT prolonging agents</description></interactionPair><interactionPair><interactionConcept><minConceptItem><rxcui>83719</rxcui><name>grepafloxacin</name><tty>IN</tty></minConceptItem><sourceConceptItem><id>NA</id><name>grepafloxacin</name><url>NA</url></sourceConceptItem></interactionConcept><interactionConcept><minConceptItem><rxcui>135447</rxcui><name>donepezil</name><tty>IN</tty></minConceptItem><sourceConceptItem><id>NA</id><name>donepezil</name><url>NA</url></sourceConceptItem></interactionConcept><severity>high</severity><description>QT prolonging agents - QT prolonging agents</description></interactionPair><interactionPair><interactionConcept><minConceptItem><rxcui>8699</rxcui><name>probucol</name><tty>IN</tty></minConceptItem><sourceConceptItem><id>NA</id><name>probucol</name><url>NA</url></sourceConceptItem></interactionConcept><interactionConcept><minConceptItem><rxcui>135447</rxcui><name>donepezil</name><tty>IN</tty></minConceptItem><sourceConceptItem><id>NA</id><name>donepezil</name><url>NA</url></sourceConceptItem></interactionConcept><severity>high</severity><description>QT prolonging agents - QT prolonging agents</description></interactionPair><interactionPair><interactionConcept><minConceptItem><rxcui>8700</rxcui><name>procainamide</name><tty>IN</tty></minConceptItem><sourceConceptItem><id>NA</id><name>procainamide</name><url>NA</url></sourceConceptItem></interactionConcept><interactionConcept><minConceptItem><rxcui>135447</rxcui><name>donepezil</name><tty>IN</tty></minConceptItem><sourceConceptItem><id>NA</id><name>donepezil</name><url>NA</url></sourceConceptItem></interactionConcept><severity>high</severity><description>QT prolonging agents - QT prolonging agents</description></interactionPair><interactionPair><interactionConcept><minConceptItem><rxcui>8782</rxcui><name>propofol</name><tty>IN</tty></minConceptItem><sourceConceptItem><id>NA</id><name>propofol</name><url>NA</url></sourceConceptItem></interactionConcept><interactionConcept><minConceptItem><rxcui>135447</rxcui><name>donepezil</name><tty>IN</tty></minConceptItem><sourceConceptItem><id>NA</id><name>donepezil</name><url>NA</url></sourceConceptItem></interactionConcept><severity>high</severity><description>QT prolonging agents - QT prolonging agents</description></interactionPair><interactionPair><interactionConcept><minConceptItem><rxcui>9068</rxcui><name>quinidine</name><tty>IN</tty></minConceptItem><sourceConceptItem><id>NA</id><name>quinidine</name><url>NA</url></sourceConceptItem></interactionConcept><interactionConcept><minConceptItem><rxcui>135447</rxcui><name>donepezil</name><tty>IN</tty></minConceptItem><sourceConceptItem><id>NA</id><name>donepezil</name><url>NA</url></sourceConceptItem></interactionConcept><severity>high</severity><description>QT prolonging agents - QT prolonging agents</description></interactionPair><interactionPair><interactionConcept><minConceptItem><rxcui>9478</rxcui><name>roxithromycin</name><tty>IN</tty></minConceptItem><sourceConceptItem><id>NA</id><name>roxithromycin</name><url>NA</url></sourceConceptItem></interactionConcept><interactionConcept><minConceptItem><rxcui>135447</rxcui><name>donepezil</name><tty>IN</tty></minConceptItem><sourceConceptItem><id>NA</id><name>donepezil</name><url>NA</url></sourceConceptItem></interactionConcept><severity>high</severity><description>QT prolonging agents - QT prolonging agents</description></interactionPair><interactionPair><interactionConcept><minConceptItem><rxcui>9947</rxcui><name>sotalol</name><tty>IN</tty></minConceptItem><sourceConceptItem><id>NA</id><name>sotalol</name><url>NA</url></sourceConceptItem></interactionConcept><interactionConcept><minConceptItem><rxcui>135447</rxcui><name>donepezil</name><tty>IN</tty></minConceptItem><sourceConceptItem><id>NA</id><name>donepezil</name><url>NA</url></sourceConceptItem></interactionConcept><severity>high</severity><description>QT prolonging agents - QT prolonging agents</description></interactionPair></interactionType></interactionTypeGroup></interactiondata>'\n"
     ]
    }
   ],
   "source": [
    "url = f\"/REST/interaction/interaction.xml?rxcui={rxnorm_code}&sources={sources[1]}\" \n",
    "get_interactions(url)"
   ]
  },
  {
   "cell_type": "code",
   "execution_count": null,
   "metadata": {},
   "outputs": [],
   "source": []
  }
 ],
 "metadata": {
  "kernelspec": {
   "display_name": "Python 3",
   "language": "python",
   "name": "python3"
  },
  "language_info": {
   "codemirror_mode": {
    "name": "ipython",
    "version": 3
   },
   "file_extension": ".py",
   "mimetype": "text/x-python",
   "name": "python",
   "nbconvert_exporter": "python",
   "pygments_lexer": "ipython3",
   "version": "3.9.12"
  },
  "orig_nbformat": 4
 },
 "nbformat": 4,
 "nbformat_minor": 2
}
